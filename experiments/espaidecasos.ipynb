{
 "cells": [
  {
   "cell_type": "code",
   "execution_count": 1,
   "metadata": {},
   "outputs": [
    {
     "name": "stdout",
     "output_type": "stream",
     "text": [
      "Total Running time 0:00:00\n"
     ]
    }
   ],
   "source": [
    "from CBR import *\n",
    "import numpy as np\n",
    "import random\n",
    "import pandas as pd\n",
    "import time\n",
    "import matplotlib.pyplot as plt\n",
    "from statistics import mean"
   ]
  },
  {
   "cell_type": "markdown",
   "metadata": {},
   "source": [
    "# Experimentació: Explotació de l'Espai de Casos\n",
    "\n",
    "La idea d'aquest apartat de l'experimentació serà intentar afirmar la següent hipòtesi:\n",
    "\n",
    "- Si quan un cas és considerat redundant, no comprovem que la valoració sigui millor o pitjor, llavors si generem blocs de casos aleatoris indefinidament, hi haurà un punt on el nombre de casos afegits per bloc serà igual a zero. \n",
    "\n",
    "Això serà degut a què tot l'espai de casos ha estat cobert i per tant considera tots els casos com a redundants.\n",
    "\n",
    "Posteriorment veurem què passa quan sí comprovem si hi ha una millora o no de la valoració. Això farà que s'intercanvïin els casos i, per tant, millori la qualitat de les recomanacions. Alhora trigarà més en arribar el punt on el nombre de casos afegits per bloc sigui zero. A més a més, aquell punt serà en el què el nostre CBR sigui tot el _perfecte_ que les nostres dades ho permeten. "
   ]
  },
  {
   "cell_type": "markdown",
   "metadata": {},
   "source": [
    "## Primera Part"
   ]
  },
  {
   "cell_type": "code",
   "execution_count": null,
   "metadata": {},
   "outputs": [],
   "source": [
    "def block(rs:RecommenderSystem, blocksize:int=100):\n",
    "    \n",
    "    redundants = 0\n",
    "    for _ in range(blocksize):\n",
    "        newp = eval(generate_new_problem())    \n",
    "        \n",
    "        most_similar_cases, newcas = rs.retrieve(newp)\n",
    "        distancies, casos, paths = zip(*most_similar_cases)\n",
    "        cas_dists = list(zip(distancies, casos))\n",
    "        dicc_most_sim = rs.reuse(cas_dists, newcas)\n",
    "        rs.revise(newcas, casos, dicc_most_sim, False) \n",
    "        redundancia = rs.retain(newcas, cas_dists, paths[0], 2)\n",
    "        if redundancia == 1:\n",
    "            redundants += 1\n",
    "\n",
    "    return redundants/blocksize\n",
    "\n",
    "df_problemes = pd.read_csv('./data/problems4000_not_0_0_0.csv')\n",
    "rs = createRS(\n",
    "    from_model= False, \n",
    "    casebase=df_problemes, \n",
    "    maxcasesxleaf=15\n",
    ")\n",
    "\n",
    "num_blocks = 100\n",
    "rates = []\n",
    "\n",
    "for b in range(num_blocks):\n",
    "    rate = block(rs)\n",
    "    rates.append(rate)\n",
    "    print(f'Rati en el block {b} = {rate}')\n",
    "\n",
    "plt.plot(range(num_blocks), rates, marker='o')  # 'o' adds dots at each point\n",
    "plt.xlabel('Quantitat de Blocs Afegits')\n",
    "plt.ylabel('Rati de Casos Redundants per bloc')\n",
    "plt.title('Evolució del Rati de Casos Redundants') \n",
    "plt.savefig('./images/espaidecasos1')\n",
    "plt.show()\n",
    "plt.close() "
   ]
  },
  {
   "cell_type": "markdown",
   "metadata": {},
   "source": [
    "## Segona Part"
   ]
  },
  {
   "cell_type": "code",
   "execution_count": null,
   "metadata": {},
   "outputs": [],
   "source": [
    "def block(rs:RecommenderSystem, blocksize:int=100):\n",
    "    \n",
    "    afegits = 0\n",
    "    redundants = 0\n",
    "    swaps = 0\n",
    "    for _ in range(blocksize):\n",
    "        newp = eval(generate_new_problem())    \n",
    "        \n",
    "        most_similar_cases, newcas = rs.retrieve(newp)\n",
    "        distancies, casos, paths = zip(*most_similar_cases)\n",
    "        cas_dists = list(zip(distancies, casos))\n",
    "        dicc_most_sim = rs.reuse(cas_dists, newcas)\n",
    "        rs.revise(newcas, casos, dicc_most_sim, False) \n",
    "        redundancia = rs.retain(newcas, cas_dists, paths[0], 2)\n",
    "        if redundancia == 0:\n",
    "            afegits += 1\n",
    "        elif redundancia == 1:\n",
    "            redundants += 1\n",
    "        elif redundancia == 2:\n",
    "            swaps += 1\n",
    "        rating = sum(newcas.avaluacio)        \n",
    "\n",
    "    return afegits/blocksize, redundants/blocksize, swaps/blocksize, rating/(blocksize*3)\n",
    "\n",
    "df_problemes = pd.read_csv('./data/problems4000_not_0_0_0.csv')\n",
    "rs = createRS(\n",
    "    from_model= False, \n",
    "    casebase=df_problemes, \n",
    "    maxcasesxleaf=15\n",
    ")\n",
    "\n",
    "num_blocks = 200\n",
    "\n",
    "afegits, redundants, swaps, ratings = [], [], [], []\n",
    "\n",
    "for b in range(num_blocks):\n",
    "    a, re, s, ra = block(rs)\n",
    "    afegits.append(a)\n",
    "    redundants.append(re)\n",
    "    swaps.append(s)\n",
    "    ratings.append(ra)\n",
    "    print(f'Mitjana d\\'Avaluacions en el block {b} = {a}')\n",
    "\n",
    "plt.figure(figsize=(12, 6))\n",
    "plt.plot(range(num_blocks), afegits, label='Afegits')\n",
    "plt.plot(range(num_blocks), redundants, label='Redundants')\n",
    "plt.plot(range(num_blocks), swaps, label='Swaps')\n",
    "plt.xlabel('Quantitat de Blocs Afegits')\n",
    "plt.ylabel('Valor del Rati per bloc')\n",
    "plt.title('Evolució dels Ratis de Redundància') \n",
    "plt.legend()\n",
    "plt.savefig('./images/espaidecasos2')\n",
    "plt.show()\n",
    "plt.close() \n",
    "\n",
    "plt.figure(figsize=(12, 6))  # Ancho de 12 pulgadas y altura de 6 pulgadas\n",
    "plt.plot(range(num_blocks), ratings, label='Ratings')\n",
    "plt.xlabel('Quantitat de Blocs Afegits')\n",
    "plt.ylabel('Rating Mitjà per Bloc')\n",
    "plt.title('Evolució dels Ratings') \n",
    "plt.legend()\n",
    "plt.savefig('./images/espaidecasos3')\n",
    "plt.show()\n",
    "plt.close()\n"
   ]
  }
 ],
 "metadata": {
  "kernelspec": {
   "display_name": "sbc",
   "language": "python",
   "name": "python3"
  },
  "language_info": {
   "codemirror_mode": {
    "name": "ipython",
    "version": 3
   },
   "file_extension": ".py",
   "mimetype": "text/x-python",
   "name": "python",
   "nbconvert_exporter": "python",
   "pygments_lexer": "ipython3",
   "version": "3.10.12"
  }
 },
 "nbformat": 4,
 "nbformat_minor": 2
}
